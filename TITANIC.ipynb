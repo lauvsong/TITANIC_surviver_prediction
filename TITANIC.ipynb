{
  "nbformat": 4,
  "nbformat_minor": 0,
  "metadata": {
    "colab": {
      "name": "03_titanic.ipynb",
      "provenance": [],
      "authorship_tag": "ABX9TyNDC7BAh30+F0GT7G32hKpQ",
      "include_colab_link": true
    },
    "kernelspec": {
      "name": "python3",
      "display_name": "Python 3"
    }
  },
  "cells": [
    {
      "cell_type": "markdown",
      "metadata": {
        "id": "view-in-github",
        "colab_type": "text"
      },
      "source": [
        "<a href=\"https://colab.research.google.com/github/lauvsong/TITANIC_surviver_prediction/blob/main/TITANIC.ipynb\" target=\"_parent\"><img src=\"https://colab.research.google.com/assets/colab-badge.svg\" alt=\"Open In Colab\"/></a>"
      ]
    },
    {
      "cell_type": "markdown",
      "metadata": {
        "id": "FJNrCAiRKUdz"
      },
      "source": [
        "# TITANIC surviver prediction"
      ]
    },
    {
      "cell_type": "code",
      "metadata": {
        "colab": {
          "base_uri": "https://localhost:8080/"
        },
        "id": "aPj8DHDr5gLz",
        "outputId": "8b945a29-0ebd-42c2-ef31-0a82b8f51f2a"
      },
      "source": [
        "from google.colab import drive\r\n",
        "drive.mount('/content/gdrive')"
      ],
      "execution_count": 1,
      "outputs": [
        {
          "output_type": "stream",
          "text": [
            "Drive already mounted at /content/gdrive; to attempt to forcibly remount, call drive.mount(\"/content/gdrive\", force_remount=True).\n"
          ],
          "name": "stdout"
        }
      ]
    },
    {
      "cell_type": "code",
      "metadata": {
        "id": "eFrpcDn76n3I"
      },
      "source": [
        "import pandas as pd\r\n",
        "import numpy as np\r\n",
        "\r\n",
        "TITANIC_PATH = '/content/gdrive/My Drive/handson/datasets/titanic/'\r\n",
        "def load_titanic_data(filename, titanic_path=TITANIC_PATH):\r\n",
        "  csv_path = os.path.join(titanic_path, filename)\r\n",
        "  return pd.read_csv(csv_path)"
      ],
      "execution_count": 2,
      "outputs": []
    },
    {
      "cell_type": "code",
      "metadata": {
        "id": "pLGlyVpO7nTH"
      },
      "source": [
        "import os\r\n",
        "train_data = load_titanic_data(\"train.csv\")\r\n",
        "test_data = load_titanic_data(\"test.csv\")"
      ],
      "execution_count": 3,
      "outputs": []
    },
    {
      "cell_type": "code",
      "metadata": {
        "colab": {
          "base_uri": "https://localhost:8080/",
          "height": 200
        },
        "id": "rqEqSfaH7uD2",
        "outputId": "1af934fb-5ea2-481e-b3f3-df2d1c11174a"
      },
      "source": [
        "train_data.head()"
      ],
      "execution_count": 4,
      "outputs": [
        {
          "output_type": "execute_result",
          "data": {
            "text/html": [
              "<div>\n",
              "<style scoped>\n",
              "    .dataframe tbody tr th:only-of-type {\n",
              "        vertical-align: middle;\n",
              "    }\n",
              "\n",
              "    .dataframe tbody tr th {\n",
              "        vertical-align: top;\n",
              "    }\n",
              "\n",
              "    .dataframe thead th {\n",
              "        text-align: right;\n",
              "    }\n",
              "</style>\n",
              "<table border=\"1\" class=\"dataframe\">\n",
              "  <thead>\n",
              "    <tr style=\"text-align: right;\">\n",
              "      <th></th>\n",
              "      <th>PassengerId</th>\n",
              "      <th>Survived</th>\n",
              "      <th>Pclass</th>\n",
              "      <th>Name</th>\n",
              "      <th>Sex</th>\n",
              "      <th>Age</th>\n",
              "      <th>SibSp</th>\n",
              "      <th>Parch</th>\n",
              "      <th>Ticket</th>\n",
              "      <th>Fare</th>\n",
              "      <th>Cabin</th>\n",
              "      <th>Embarked</th>\n",
              "    </tr>\n",
              "  </thead>\n",
              "  <tbody>\n",
              "    <tr>\n",
              "      <th>0</th>\n",
              "      <td>1</td>\n",
              "      <td>0</td>\n",
              "      <td>3</td>\n",
              "      <td>Braund, Mr. Owen Harris</td>\n",
              "      <td>male</td>\n",
              "      <td>22.0</td>\n",
              "      <td>1</td>\n",
              "      <td>0</td>\n",
              "      <td>A/5 21171</td>\n",
              "      <td>7.2500</td>\n",
              "      <td>NaN</td>\n",
              "      <td>S</td>\n",
              "    </tr>\n",
              "    <tr>\n",
              "      <th>1</th>\n",
              "      <td>2</td>\n",
              "      <td>1</td>\n",
              "      <td>1</td>\n",
              "      <td>Cumings, Mrs. John Bradley (Florence Briggs Th...</td>\n",
              "      <td>female</td>\n",
              "      <td>38.0</td>\n",
              "      <td>1</td>\n",
              "      <td>0</td>\n",
              "      <td>PC 17599</td>\n",
              "      <td>71.2833</td>\n",
              "      <td>C85</td>\n",
              "      <td>C</td>\n",
              "    </tr>\n",
              "    <tr>\n",
              "      <th>2</th>\n",
              "      <td>3</td>\n",
              "      <td>1</td>\n",
              "      <td>3</td>\n",
              "      <td>Heikkinen, Miss. Laina</td>\n",
              "      <td>female</td>\n",
              "      <td>26.0</td>\n",
              "      <td>0</td>\n",
              "      <td>0</td>\n",
              "      <td>STON/O2. 3101282</td>\n",
              "      <td>7.9250</td>\n",
              "      <td>NaN</td>\n",
              "      <td>S</td>\n",
              "    </tr>\n",
              "    <tr>\n",
              "      <th>3</th>\n",
              "      <td>4</td>\n",
              "      <td>1</td>\n",
              "      <td>1</td>\n",
              "      <td>Futrelle, Mrs. Jacques Heath (Lily May Peel)</td>\n",
              "      <td>female</td>\n",
              "      <td>35.0</td>\n",
              "      <td>1</td>\n",
              "      <td>0</td>\n",
              "      <td>113803</td>\n",
              "      <td>53.1000</td>\n",
              "      <td>C123</td>\n",
              "      <td>S</td>\n",
              "    </tr>\n",
              "    <tr>\n",
              "      <th>4</th>\n",
              "      <td>5</td>\n",
              "      <td>0</td>\n",
              "      <td>3</td>\n",
              "      <td>Allen, Mr. William Henry</td>\n",
              "      <td>male</td>\n",
              "      <td>35.0</td>\n",
              "      <td>0</td>\n",
              "      <td>0</td>\n",
              "      <td>373450</td>\n",
              "      <td>8.0500</td>\n",
              "      <td>NaN</td>\n",
              "      <td>S</td>\n",
              "    </tr>\n",
              "  </tbody>\n",
              "</table>\n",
              "</div>"
            ],
            "text/plain": [
              "   PassengerId  Survived  Pclass  ...     Fare Cabin  Embarked\n",
              "0            1         0       3  ...   7.2500   NaN         S\n",
              "1            2         1       1  ...  71.2833   C85         C\n",
              "2            3         1       3  ...   7.9250   NaN         S\n",
              "3            4         1       1  ...  53.1000  C123         S\n",
              "4            5         0       3  ...   8.0500   NaN         S\n",
              "\n",
              "[5 rows x 12 columns]"
            ]
          },
          "metadata": {
            "tags": []
          },
          "execution_count": 4
        }
      ]
    },
    {
      "cell_type": "code",
      "metadata": {
        "colab": {
          "base_uri": "https://localhost:8080/"
        },
        "id": "6dwzymDn8Aem",
        "outputId": "0be3a734-439f-4b28-edf6-8ec89d5521c3"
      },
      "source": [
        "train_data.info()"
      ],
      "execution_count": 5,
      "outputs": [
        {
          "output_type": "stream",
          "text": [
            "<class 'pandas.core.frame.DataFrame'>\n",
            "RangeIndex: 891 entries, 0 to 890\n",
            "Data columns (total 12 columns):\n",
            " #   Column       Non-Null Count  Dtype  \n",
            "---  ------       --------------  -----  \n",
            " 0   PassengerId  891 non-null    int64  \n",
            " 1   Survived     891 non-null    int64  \n",
            " 2   Pclass       891 non-null    int64  \n",
            " 3   Name         891 non-null    object \n",
            " 4   Sex          891 non-null    object \n",
            " 5   Age          714 non-null    float64\n",
            " 6   SibSp        891 non-null    int64  \n",
            " 7   Parch        891 non-null    int64  \n",
            " 8   Ticket       891 non-null    object \n",
            " 9   Fare         891 non-null    float64\n",
            " 10  Cabin        204 non-null    object \n",
            " 11  Embarked     889 non-null    object \n",
            "dtypes: float64(2), int64(5), object(5)\n",
            "memory usage: 83.7+ KB\n"
          ],
          "name": "stdout"
        }
      ]
    },
    {
      "cell_type": "markdown",
      "metadata": {
        "id": "xjnZzFDDKti6"
      },
      "source": [
        "- Age 결측치 처리 필요\r\n",
        "- Cabin 결측치 과반수 이상으로 분석 과정에서 제외"
      ]
    },
    {
      "cell_type": "code",
      "metadata": {
        "colab": {
          "base_uri": "https://localhost:8080/",
          "height": 292
        },
        "id": "5tskkeQo8WLE",
        "outputId": "531c12d9-3ef7-42c1-ef0a-21bf2ec2bebe"
      },
      "source": [
        "train_data.describe()"
      ],
      "execution_count": 6,
      "outputs": [
        {
          "output_type": "execute_result",
          "data": {
            "text/html": [
              "<div>\n",
              "<style scoped>\n",
              "    .dataframe tbody tr th:only-of-type {\n",
              "        vertical-align: middle;\n",
              "    }\n",
              "\n",
              "    .dataframe tbody tr th {\n",
              "        vertical-align: top;\n",
              "    }\n",
              "\n",
              "    .dataframe thead th {\n",
              "        text-align: right;\n",
              "    }\n",
              "</style>\n",
              "<table border=\"1\" class=\"dataframe\">\n",
              "  <thead>\n",
              "    <tr style=\"text-align: right;\">\n",
              "      <th></th>\n",
              "      <th>PassengerId</th>\n",
              "      <th>Survived</th>\n",
              "      <th>Pclass</th>\n",
              "      <th>Age</th>\n",
              "      <th>SibSp</th>\n",
              "      <th>Parch</th>\n",
              "      <th>Fare</th>\n",
              "    </tr>\n",
              "  </thead>\n",
              "  <tbody>\n",
              "    <tr>\n",
              "      <th>count</th>\n",
              "      <td>891.000000</td>\n",
              "      <td>891.000000</td>\n",
              "      <td>891.000000</td>\n",
              "      <td>714.000000</td>\n",
              "      <td>891.000000</td>\n",
              "      <td>891.000000</td>\n",
              "      <td>891.000000</td>\n",
              "    </tr>\n",
              "    <tr>\n",
              "      <th>mean</th>\n",
              "      <td>446.000000</td>\n",
              "      <td>0.383838</td>\n",
              "      <td>2.308642</td>\n",
              "      <td>29.699118</td>\n",
              "      <td>0.523008</td>\n",
              "      <td>0.381594</td>\n",
              "      <td>32.204208</td>\n",
              "    </tr>\n",
              "    <tr>\n",
              "      <th>std</th>\n",
              "      <td>257.353842</td>\n",
              "      <td>0.486592</td>\n",
              "      <td>0.836071</td>\n",
              "      <td>14.526497</td>\n",
              "      <td>1.102743</td>\n",
              "      <td>0.806057</td>\n",
              "      <td>49.693429</td>\n",
              "    </tr>\n",
              "    <tr>\n",
              "      <th>min</th>\n",
              "      <td>1.000000</td>\n",
              "      <td>0.000000</td>\n",
              "      <td>1.000000</td>\n",
              "      <td>0.420000</td>\n",
              "      <td>0.000000</td>\n",
              "      <td>0.000000</td>\n",
              "      <td>0.000000</td>\n",
              "    </tr>\n",
              "    <tr>\n",
              "      <th>25%</th>\n",
              "      <td>223.500000</td>\n",
              "      <td>0.000000</td>\n",
              "      <td>2.000000</td>\n",
              "      <td>20.125000</td>\n",
              "      <td>0.000000</td>\n",
              "      <td>0.000000</td>\n",
              "      <td>7.910400</td>\n",
              "    </tr>\n",
              "    <tr>\n",
              "      <th>50%</th>\n",
              "      <td>446.000000</td>\n",
              "      <td>0.000000</td>\n",
              "      <td>3.000000</td>\n",
              "      <td>28.000000</td>\n",
              "      <td>0.000000</td>\n",
              "      <td>0.000000</td>\n",
              "      <td>14.454200</td>\n",
              "    </tr>\n",
              "    <tr>\n",
              "      <th>75%</th>\n",
              "      <td>668.500000</td>\n",
              "      <td>1.000000</td>\n",
              "      <td>3.000000</td>\n",
              "      <td>38.000000</td>\n",
              "      <td>1.000000</td>\n",
              "      <td>0.000000</td>\n",
              "      <td>31.000000</td>\n",
              "    </tr>\n",
              "    <tr>\n",
              "      <th>max</th>\n",
              "      <td>891.000000</td>\n",
              "      <td>1.000000</td>\n",
              "      <td>3.000000</td>\n",
              "      <td>80.000000</td>\n",
              "      <td>8.000000</td>\n",
              "      <td>6.000000</td>\n",
              "      <td>512.329200</td>\n",
              "    </tr>\n",
              "  </tbody>\n",
              "</table>\n",
              "</div>"
            ],
            "text/plain": [
              "       PassengerId    Survived      Pclass  ...       SibSp       Parch        Fare\n",
              "count   891.000000  891.000000  891.000000  ...  891.000000  891.000000  891.000000\n",
              "mean    446.000000    0.383838    2.308642  ...    0.523008    0.381594   32.204208\n",
              "std     257.353842    0.486592    0.836071  ...    1.102743    0.806057   49.693429\n",
              "min       1.000000    0.000000    1.000000  ...    0.000000    0.000000    0.000000\n",
              "25%     223.500000    0.000000    2.000000  ...    0.000000    0.000000    7.910400\n",
              "50%     446.000000    0.000000    3.000000  ...    0.000000    0.000000   14.454200\n",
              "75%     668.500000    1.000000    3.000000  ...    1.000000    0.000000   31.000000\n",
              "max     891.000000    1.000000    3.000000  ...    8.000000    6.000000  512.329200\n",
              "\n",
              "[8 rows x 7 columns]"
            ]
          },
          "metadata": {
            "tags": []
          },
          "execution_count": 6
        }
      ]
    },
    {
      "cell_type": "code",
      "metadata": {
        "colab": {
          "base_uri": "https://localhost:8080/"
        },
        "id": "bC_-pGVF8p0U",
        "outputId": "f0b4ff9f-6cd6-4932-da82-c2831daa738e"
      },
      "source": [
        "train_data['Survived'].value_counts()"
      ],
      "execution_count": 7,
      "outputs": [
        {
          "output_type": "execute_result",
          "data": {
            "text/plain": [
              "0    549\n",
              "1    342\n",
              "Name: Survived, dtype: int64"
            ]
          },
          "metadata": {
            "tags": []
          },
          "execution_count": 7
        }
      ]
    },
    {
      "cell_type": "code",
      "metadata": {
        "colab": {
          "base_uri": "https://localhost:8080/"
        },
        "id": "SuPEBLUz9Aok",
        "outputId": "2fab453f-3abf-4de6-89e1-ec5c1d8ab4b3"
      },
      "source": [
        "train_data['Sex'].value_counts()"
      ],
      "execution_count": 8,
      "outputs": [
        {
          "output_type": "execute_result",
          "data": {
            "text/plain": [
              "male      577\n",
              "female    314\n",
              "Name: Sex, dtype: int64"
            ]
          },
          "metadata": {
            "tags": []
          },
          "execution_count": 8
        }
      ]
    },
    {
      "cell_type": "code",
      "metadata": {
        "colab": {
          "base_uri": "https://localhost:8080/"
        },
        "id": "r4bTKD7t9FIX",
        "outputId": "728489b0-a085-4cd2-e84a-8b53c075a881"
      },
      "source": [
        "train_data['Pclass'].value_counts()"
      ],
      "execution_count": 9,
      "outputs": [
        {
          "output_type": "execute_result",
          "data": {
            "text/plain": [
              "3    491\n",
              "1    216\n",
              "2    184\n",
              "Name: Pclass, dtype: int64"
            ]
          },
          "metadata": {
            "tags": []
          },
          "execution_count": 9
        }
      ]
    },
    {
      "cell_type": "code",
      "metadata": {
        "colab": {
          "base_uri": "https://localhost:8080/"
        },
        "id": "dWDYpGQ89IOt",
        "outputId": "19a3f832-295d-44cc-a5d7-72922ac29f97"
      },
      "source": [
        "train_data['Embarked'].value_counts()"
      ],
      "execution_count": 10,
      "outputs": [
        {
          "output_type": "execute_result",
          "data": {
            "text/plain": [
              "S    644\n",
              "C    168\n",
              "Q     77\n",
              "Name: Embarked, dtype: int64"
            ]
          },
          "metadata": {
            "tags": []
          },
          "execution_count": 10
        }
      ]
    },
    {
      "cell_type": "code",
      "metadata": {
        "colab": {
          "base_uri": "https://localhost:8080/",
          "height": 977
        },
        "id": "Fh_zwJ0D9Rkz",
        "outputId": "3e003240-3845-486e-f09e-2aea9a8db210"
      },
      "source": [
        "%matplotlib inline\r\n",
        "import matplotlib.pyplot as plt\r\n",
        "\r\n",
        "train_data.hist(bins=50, figsize=(20,15))\r\n",
        "plt.tight_layout()"
      ],
      "execution_count": 11,
      "outputs": [
        {
          "output_type": "display_data",
          "data": {
            "image/png": "[encoded data removed]",
            "text/plain": [
              "<Figure size 1440x1080 with 9 Axes>"
            ]
          },
          "metadata": {
            "tags": [],
            "needs_background": "light"
          }
        }
      ]
    },
    {
      "cell_type": "markdown",
      "metadata": {
        "id": "jDgF5I6KvfR8"
      },
      "source": [
        "## EDA"
      ]
    },
    {
      "cell_type": "code",
      "metadata": {
        "id": "BplFY2LLoAoM"
      },
      "source": [
        "eda = train_data.copy()\r\n",
        "eda['Sex_code'] = eda['Sex'].astype('category').cat.codes\r\n",
        "\r\n",
        "eda['Embarked'].fillna('S', inplace=True)\r\n",
        "eda['Embarked_code'] = eda['Embarked'].astype('category').cat.codes"
      ],
      "execution_count": 12,
      "outputs": []
    },
    {
      "cell_type": "markdown",
      "metadata": {
        "id": "TqYMcHt5S6Xa"
      },
      "source": [
        "#### 연속형 feature 상관관계 분석"
      ]
    },
    {
      "cell_type": "code",
      "metadata": {
        "colab": {
          "base_uri": "https://localhost:8080/"
        },
        "id": "B8aV7SMo_NFx",
        "outputId": "e3974b2c-8e36-4419-90bc-e508af42d171"
      },
      "source": [
        "corr_matrix = eda.corr()\r\n",
        "corr_matrix[\"Survived\"].sort_values(ascending=False)"
      ],
      "execution_count": 13,
      "outputs": [
        {
          "output_type": "execute_result",
          "data": {
            "text/plain": [
              "Survived         1.000000\n",
              "Fare             0.257307\n",
              "Parch            0.081629\n",
              "PassengerId     -0.005007\n",
              "SibSp           -0.035322\n",
              "Age             -0.077221\n",
              "Embarked_code   -0.167675\n",
              "Pclass          -0.338481\n",
              "Sex_code        -0.543351\n",
              "Name: Survived, dtype: float64"
            ]
          },
          "metadata": {
            "tags": []
          },
          "execution_count": 13
        }
      ]
    },
    {
      "cell_type": "markdown",
      "metadata": {
        "id": "VU8zwmqlAxxK"
      },
      "source": [
        "1. 요금과 생존율의 뚜렷한 양의 상관관계\r\n",
        "\r\n",
        "2. Sibsp, Parch 각각으로는 거의 영향을 끼치지 않음"
      ]
    },
    {
      "cell_type": "markdown",
      "metadata": {
        "id": "vKjWEns3R_99"
      },
      "source": [
        "#### 범주형 feature 상관관계 분석"
      ]
    },
    {
      "cell_type": "code",
      "metadata": {
        "id": "IgkrdN3lCPcR"
      },
      "source": [
        "import seaborn as sns\r\n",
        "sns.set()"
      ],
      "execution_count": 14,
      "outputs": []
    },
    {
      "cell_type": "code",
      "metadata": {
        "colab": {
          "base_uri": "https://localhost:8080/",
          "height": 313
        },
        "id": "6y5QRgQxRD6T",
        "outputId": "eac50003-cd40-4a82-d92b-44783ec7887f"
      },
      "source": [
        "eda[['Sex', 'Survived']].groupby(['Sex'], as_index=True).mean().plot.bar()\r\n",
        "plt.show()"
      ],
      "execution_count": 15,
      "outputs": [
        {
          "output_type": "display_data",
          "data": {
            "image/png": "[encoded data removed]",
            "text/plain": [
              "<Figure size 432x288 with 1 Axes>"
            ]
          },
          "metadata": {
            "tags": []
          }
        }
      ]
    },
    {
      "cell_type": "code",
      "metadata": {
        "colab": {
          "base_uri": "https://localhost:8080/",
          "height": 282
        },
        "id": "ozslpJXHRH0_",
        "outputId": "f3b9fb97-7418-4ced-ac83-20230fb72605"
      },
      "source": [
        "eda[['Pclass', 'Survived']].groupby(['Pclass'], as_index=True).mean().plot.bar()\r\n",
        "plt.show()"
      ],
      "execution_count": 16,
      "outputs": [
        {
          "output_type": "display_data",
          "data": {
            "image/png": "[encoded data removed]",
            "text/plain": [
              "<Figure size 432x288 with 1 Axes>"
            ]
          },
          "metadata": {
            "tags": []
          }
        }
      ]
    },
    {
      "cell_type": "code",
      "metadata": {
        "colab": {
          "base_uri": "https://localhost:8080/",
          "height": 283
        },
        "id": "AUDM_s8RRZ4H",
        "outputId": "df808519-d410-4785-a7cc-54d14e52a327"
      },
      "source": [
        "eda[['Embarked', 'Survived']].groupby(['Embarked'], as_index=True).mean().plot.bar()\r\n",
        "plt.show()"
      ],
      "execution_count": 17,
      "outputs": [
        {
          "output_type": "display_data",
          "data": {
            "image/png": "[encoded data removed]",
            "text/plain": [
              "<Figure size 432x288 with 1 Axes>"
            ]
          },
          "metadata": {
            "tags": []
          }
        }
      ]
    },
    {
      "cell_type": "code",
      "metadata": {
        "colab": {
          "base_uri": "https://localhost:8080/",
          "height": 285
        },
        "id": "n7ftz2MZSrqZ",
        "outputId": "7feec078-14c8-4f58-e792-5f3cab78871c"
      },
      "source": [
        "sns.kdeplot(eda[eda['Survived'] == 1]['Age'])\r\n",
        "sns.kdeplot(eda[eda['Survived'] == 0]['Age'])\r\n",
        "plt.legend(['Survived', 'Dead'])\r\n",
        "plt.show()"
      ],
      "execution_count": 18,
      "outputs": [
        {
          "output_type": "display_data",
          "data": {
            "image/png": "[encoded data removed]",
            "text/plain": [
              "<Figure size 432x288 with 1 Axes>"
            ]
          },
          "metadata": {
            "tags": []
          }
        }
      ]
    },
    {
      "cell_type": "code",
      "metadata": {
        "colab": {
          "base_uri": "https://localhost:8080/",
          "height": 285
        },
        "id": "7CZxZYl1ug7S",
        "outputId": "94417802-5ca5-47d5-f8a0-5718d2ea5b45"
      },
      "source": [
        "sns.kdeplot(eda[eda['Pclass'] == 1]['Age'])\r\n",
        "sns.kdeplot(eda[eda['Pclass'] == 2]['Age'])\r\n",
        "sns.kdeplot(eda[eda['Pclass'] == 3]['Age'])\r\n",
        "plt.legend(['1', '2', '3'])\r\n",
        "plt.show()"
      ],
      "execution_count": 19,
      "outputs": [
        {
          "output_type": "display_data",
          "data": {
            "image/png": "[encoded data removed]",
            "text/plain": [
              "<Figure size 432x288 with 1 Axes>"
            ]
          },
          "metadata": {
            "tags": []
          }
        }
      ]
    },
    {
      "cell_type": "code",
      "metadata": {
        "colab": {
          "base_uri": "https://localhost:8080/",
          "height": 285
        },
        "id": "hhtfUBNsuUmi",
        "outputId": "83d884c5-0104-4b96-d9ab-2ce4f6422ef6"
      },
      "source": [
        "sns.kdeplot(eda[eda['Survived'] == 1]['Fare'])\r\n",
        "sns.kdeplot(eda[eda['Survived'] == 0]['Fare'])\r\n",
        "plt.legend(['Survived', 'Dead'])\r\n",
        "plt.show()"
      ],
      "execution_count": 20,
      "outputs": [
        {
          "output_type": "display_data",
          "data": {
            "image/png": "[encoded data removed]",
            "text/plain": [
              "<Figure size 432x288 with 1 Axes>"
            ]
          },
          "metadata": {
            "tags": []
          }
        }
      ]
    },
    {
      "cell_type": "code",
      "metadata": {
        "colab": {
          "base_uri": "https://localhost:8080/",
          "height": 285
        },
        "id": "MBAjvSFmyvC6",
        "outputId": "52983dfa-ab4a-4809-90e1-b94466771668"
      },
      "source": [
        "sns.kdeplot(eda[eda['Survived'] == 1]['SibSp'])\r\n",
        "sns.kdeplot(eda[eda['Survived'] == 0]['SibSp'])\r\n",
        "plt.legend(['Survived', 'Dead'])\r\n",
        "plt.show()"
      ],
      "execution_count": 21,
      "outputs": [
        {
          "output_type": "display_data",
          "data": {
            "image/png": "[encoded data removed]",
            "text/plain": [
              "<Figure size 432x288 with 1 Axes>"
            ]
          },
          "metadata": {
            "tags": []
          }
        }
      ]
    },
    {
      "cell_type": "code",
      "metadata": {
        "colab": {
          "base_uri": "https://localhost:8080/",
          "height": 285
        },
        "id": "PRMvdXJszAVL",
        "outputId": "264f7051-4c2b-428e-a6ee-c55f6c0a61d1"
      },
      "source": [
        "sns.kdeplot(eda[eda['Survived'] == 1]['Parch'])\r\n",
        "sns.kdeplot(eda[eda['Survived'] == 0]['Parch'])\r\n",
        "plt.legend(['Survived', 'Dead'])\r\n",
        "plt.show()"
      ],
      "execution_count": 22,
      "outputs": [
        {
          "output_type": "display_data",
          "data": {
            "image/png": "[encoded data removed]",
            "text/plain": [
              "<Figure size 432x288 with 1 Axes>"
            ]
          },
          "metadata": {
            "tags": []
          }
        }
      ]
    },
    {
      "cell_type": "code",
      "metadata": {
        "colab": {
          "base_uri": "https://localhost:8080/",
          "height": 285
        },
        "id": "hZGOWJMQ5E6j",
        "outputId": "a68e979f-e04b-4e41-c520-dfd241d5c43e"
      },
      "source": [
        "eda['family_size'] = eda['SibSp'] + eda['Parch']\r\n",
        "\r\n",
        "sns.kdeplot(eda[eda['Survived'] == 1]['family_size'])\r\n",
        "sns.kdeplot(eda[eda['Survived'] == 0]['family_size'])\r\n",
        "plt.legend(['Survived', 'Dead'])\r\n",
        "plt.show()"
      ],
      "execution_count": 23,
      "outputs": [
        {
          "output_type": "display_data",
          "data": {
            "image/png": "[encoded data removed]",
            "text/plain": [
              "<Figure size 432x288 with 1 Axes>"
            ]
          },
          "metadata": {
            "tags": []
          }
        }
      ]
    },
    {
      "cell_type": "code",
      "metadata": {
        "colab": {
          "base_uri": "https://localhost:8080/",
          "height": 289
        },
        "id": "gEEjkEER7RlL",
        "outputId": "faff05f5-5b0d-4f08-9414-3cc12056184b"
      },
      "source": [
        "eda[['family_size', 'Survived']].groupby(['family_size'], as_index=True).mean().sort_values(by='Survived', ascending=False).plot.bar()\r\n",
        "plt.show()"
      ],
      "execution_count": 24,
      "outputs": [
        {
          "output_type": "display_data",
          "data": {
            "image/png": "[encoded data removed]",
            "text/plain": [
              "<Figure size 432x288 with 1 Axes>"
            ]
          },
          "metadata": {
            "tags": []
          }
        }
      ]
    },
    {
      "cell_type": "markdown",
      "metadata": {
        "id": "T1LcDMUmSG3y"
      },
      "source": [
        "- 여성이 생존률이 높음\r\n",
        "- 하위 클래스일 수록 생존률이 높음\r\n",
        "- C 선착장이 비교적 생존률이 높음\r\n",
        "- 나이가 어릴 수록 생존률이 높음\r\n",
        "\r\n",
        "+) 하위 클래스에는 나이대가 어린 사람이 많았음"
      ]
    },
    {
      "cell_type": "markdown",
      "metadata": {
        "id": "FonLIYPbi5Wc"
      },
      "source": [
        "### 전처리\r\n",
        "- feature engineering\r\n",
        "- 불필요한 컬럼 drop\r\n",
        "- 결측치 대체\r\n",
        "- 범주형 문자열 수치화"
      ]
    },
    {
      "cell_type": "code",
      "metadata": {
        "id": "rTNX3sfmYYVf"
      },
      "source": [
        "train = train_data.drop(['Cabin', 'Ticket', 'PassengerId'], axis=1)"
      ],
      "execution_count": 25,
      "outputs": []
    },
    {
      "cell_type": "code",
      "metadata": {
        "colab": {
          "base_uri": "https://localhost:8080/",
          "height": 200
        },
        "id": "bbmypFdPl5QR",
        "outputId": "fdd1bed9-936a-45e7-f583-55437d5658c6"
      },
      "source": [
        "train.head()"
      ],
      "execution_count": 26,
      "outputs": [
        {
          "output_type": "execute_result",
          "data": {
            "text/html": [
              "<div>\n",
              "<style scoped>\n",
              "    .dataframe tbody tr th:only-of-type {\n",
              "        vertical-align: middle;\n",
              "    }\n",
              "\n",
              "    .dataframe tbody tr th {\n",
              "        vertical-align: top;\n",
              "    }\n",
              "\n",
              "    .dataframe thead th {\n",
              "        text-align: right;\n",
              "    }\n",
              "</style>\n",
              "<table border=\"1\" class=\"dataframe\">\n",
              "  <thead>\n",
              "    <tr style=\"text-align: right;\">\n",
              "      <th></th>\n",
              "      <th>Survived</th>\n",
              "      <th>Pclass</th>\n",
              "      <th>Name</th>\n",
              "      <th>Sex</th>\n",
              "      <th>Age</th>\n",
              "      <th>SibSp</th>\n",
              "      <th>Parch</th>\n",
              "      <th>Fare</th>\n",
              "      <th>Embarked</th>\n",
              "    </tr>\n",
              "  </thead>\n",
              "  <tbody>\n",
              "    <tr>\n",
              "      <th>0</th>\n",
              "      <td>0</td>\n",
              "      <td>3</td>\n",
              "      <td>Braund, Mr. Owen Harris</td>\n",
              "      <td>male</td>\n",
              "      <td>22.0</td>\n",
              "      <td>1</td>\n",
              "      <td>0</td>\n",
              "      <td>7.2500</td>\n",
              "      <td>S</td>\n",
              "    </tr>\n",
              "    <tr>\n",
              "      <th>1</th>\n",
              "      <td>1</td>\n",
              "      <td>1</td>\n",
              "      <td>Cumings, Mrs. John Bradley (Florence Briggs Th...</td>\n",
              "      <td>female</td>\n",
              "      <td>38.0</td>\n",
              "      <td>1</td>\n",
              "      <td>0</td>\n",
              "      <td>71.2833</td>\n",
              "      <td>C</td>\n",
              "    </tr>\n",
              "    <tr>\n",
              "      <th>2</th>\n",
              "      <td>1</td>\n",
              "      <td>3</td>\n",
              "      <td>Heikkinen, Miss. Laina</td>\n",
              "      <td>female</td>\n",
              "      <td>26.0</td>\n",
              "      <td>0</td>\n",
              "      <td>0</td>\n",
              "      <td>7.9250</td>\n",
              "      <td>S</td>\n",
              "    </tr>\n",
              "    <tr>\n",
              "      <th>3</th>\n",
              "      <td>1</td>\n",
              "      <td>1</td>\n",
              "      <td>Futrelle, Mrs. Jacques Heath (Lily May Peel)</td>\n",
              "      <td>female</td>\n",
              "      <td>35.0</td>\n",
              "      <td>1</td>\n",
              "      <td>0</td>\n",
              "      <td>53.1000</td>\n",
              "      <td>S</td>\n",
              "    </tr>\n",
              "    <tr>\n",
              "      <th>4</th>\n",
              "      <td>0</td>\n",
              "      <td>3</td>\n",
              "      <td>Allen, Mr. William Henry</td>\n",
              "      <td>male</td>\n",
              "      <td>35.0</td>\n",
              "      <td>0</td>\n",
              "      <td>0</td>\n",
              "      <td>8.0500</td>\n",
              "      <td>S</td>\n",
              "    </tr>\n",
              "  </tbody>\n",
              "</table>\n",
              "</div>"
            ],
            "text/plain": [
              "   Survived  Pclass  ...     Fare Embarked\n",
              "0         0       3  ...   7.2500        S\n",
              "1         1       1  ...  71.2833        C\n",
              "2         1       3  ...   7.9250        S\n",
              "3         1       1  ...  53.1000        S\n",
              "4         0       3  ...   8.0500        S\n",
              "\n",
              "[5 rows x 9 columns]"
            ]
          },
          "metadata": {
            "tags": []
          },
          "execution_count": 26
        }
      ]
    },
    {
      "cell_type": "markdown",
      "metadata": {
        "id": "NFBr9ze7uK3n"
      },
      "source": [
        "### 특성 공학 1) Title feature 추가"
      ]
    },
    {
      "cell_type": "code",
      "metadata": {
        "colab": {
          "base_uri": "https://localhost:8080/"
        },
        "id": "MiXsKWWDm4er",
        "outputId": "dddcc200-7966-4bb4-c87f-ba0636182516"
      },
      "source": [
        "train['Title'] = train['Name'].str.extract('([A-Za-z]+)\\.', expand=False)\r\n",
        "train['Title'].value_counts()"
      ],
      "execution_count": 27,
      "outputs": [
        {
          "output_type": "execute_result",
          "data": {
            "text/plain": [
              "Mr          517\n",
              "Miss        182\n",
              "Mrs         125\n",
              "Master       40\n",
              "Dr            7\n",
              "Rev           6\n",
              "Mlle          2\n",
              "Major         2\n",
              "Col           2\n",
              "Mme           1\n",
              "Lady          1\n",
              "Countess      1\n",
              "Sir           1\n",
              "Jonkheer      1\n",
              "Don           1\n",
              "Ms            1\n",
              "Capt          1\n",
              "Name: Title, dtype: int64"
            ]
          },
          "metadata": {
            "tags": []
          },
          "execution_count": 27
        }
      ]
    },
    {
      "cell_type": "code",
      "metadata": {
        "id": "E9JitOAAowL8"
      },
      "source": [
        "train['Title'] = train['Title'].replace(['Lady', 'Countess','Capt', 'Col','Don', 'Dr', 'Major', 'Rev', 'Sir', 'Jonkheer', 'Dona'], 'Other')\r\n",
        "train['Title'] = train['Title'].replace('Mlle', 'Miss').replace('Ms', 'Miss').replace('Mme', 'Mrs')\r\n",
        "train = train.drop(['Name'], axis=1)"
      ],
      "execution_count": 28,
      "outputs": []
    },
    {
      "cell_type": "code",
      "metadata": {
        "colab": {
          "base_uri": "https://localhost:8080/",
          "height": 313
        },
        "id": "8Npr_rZ2sQ0e",
        "outputId": "1ff19009-aa41-46b3-bb00-d76b5608ba04"
      },
      "source": [
        "train[['Title', 'Survived']].groupby(['Title'], as_index=True).mean().plot.bar()\r\n",
        "plt.show()"
      ],
      "execution_count": 29,
      "outputs": [
        {
          "output_type": "display_data",
          "data": {
            "image/png": "[encoded data removed]",
            "text/plain": [
              "<Figure size 432x288 with 1 Axes>"
            ]
          },
          "metadata": {
            "tags": []
          }
        }
      ]
    },
    {
      "cell_type": "markdown",
      "metadata": {
        "id": "tKXFr7r9r9uk"
      },
      "source": [
        "### 특성 공학 2) Alone, Bigfamily feature 추가\r\n",
        "\r\n"
      ]
    },
    {
      "cell_type": "code",
      "metadata": {
        "colab": {
          "base_uri": "https://localhost:8080/"
        },
        "id": "ZEep4BAem_Be",
        "outputId": "aba60a7b-ba7e-4ea3-f2e9-f8a65a75199a"
      },
      "source": [
        "train['family_size'] = train['SibSp'] + train['Parch']\r\n",
        "train.corr()['Survived']"
      ],
      "execution_count": 30,
      "outputs": [
        {
          "output_type": "execute_result",
          "data": {
            "text/plain": [
              "Survived       1.000000\n",
              "Pclass        -0.338481\n",
              "Age           -0.077221\n",
              "SibSp         -0.035322\n",
              "Parch          0.081629\n",
              "Fare           0.257307\n",
              "family_size    0.016639\n",
              "Name: Survived, dtype: float64"
            ]
          },
          "metadata": {
            "tags": []
          },
          "execution_count": 30
        }
      ]
    },
    {
      "cell_type": "code",
      "metadata": {
        "id": "DYptLtA7nGre"
      },
      "source": [
        "train['Alone'] = 0\r\n",
        "train.loc[train['family_size']==0, 'Alone'] = 1\r\n",
        "\r\n",
        "train['Bigfamily'] = 0\r\n",
        "train.loc[train['family_size']>3, 'Bigfamily'] = 1"
      ],
      "execution_count": 31,
      "outputs": []
    },
    {
      "cell_type": "code",
      "metadata": {
        "colab": {
          "base_uri": "https://localhost:8080/"
        },
        "id": "JRyJXSAGsYmL",
        "outputId": "58f426af-c9d0-42a6-c82f-f7352bd16d1e"
      },
      "source": [
        "train.corr()['Survived']"
      ],
      "execution_count": 32,
      "outputs": [
        {
          "output_type": "execute_result",
          "data": {
            "text/plain": [
              "Survived       1.000000\n",
              "Pclass        -0.338481\n",
              "Age           -0.077221\n",
              "SibSp         -0.035322\n",
              "Parch          0.081629\n",
              "Fare           0.257307\n",
              "family_size    0.016639\n",
              "Alone         -0.203367\n",
              "Bigfamily     -0.125147\n",
              "Name: Survived, dtype: float64"
            ]
          },
          "metadata": {
            "tags": []
          },
          "execution_count": 32
        }
      ]
    },
    {
      "cell_type": "code",
      "metadata": {
        "colab": {
          "base_uri": "https://localhost:8080/",
          "height": 438
        },
        "id": "Pmn_cWHusyg-",
        "outputId": "087a8c1e-e129-4b26-fde4-31060f3df2c4"
      },
      "source": [
        "sns.factorplot(x='Alone', y='Survived', data=train)\r\n",
        "plt.show()"
      ],
      "execution_count": 33,
      "outputs": [
        {
          "output_type": "stream",
          "text": [
            "/usr/local/lib/python3.6/dist-packages/seaborn/categorical.py:3714: UserWarning: The `factorplot` function has been renamed to `catplot`. The original name will be removed in a future release. Please update your code. Note that the default `kind` in `factorplot` (`'point'`) has changed `'strip'` in `catplot`.\n",
            "  warnings.warn(msg)\n"
          ],
          "name": "stderr"
        },
        {
          "output_type": "display_data",
          "data": {
            "image/png": "[encoded data removed]",
            "text/plain": [
              "<Figure size 360x360 with 1 Axes>"
            ]
          },
          "metadata": {
            "tags": []
          }
        }
      ]
    },
    {
      "cell_type": "code",
      "metadata": {
        "colab": {
          "base_uri": "https://localhost:8080/",
          "height": 438
        },
        "id": "hjDd2MhLBqyV",
        "outputId": "142bfd0f-d82e-41da-f03b-aacf4256a77e"
      },
      "source": [
        "sns.factorplot(x='Bigfamily', y='Survived', data=train)\r\n",
        "plt.show()"
      ],
      "execution_count": 34,
      "outputs": [
        {
          "output_type": "stream",
          "text": [
            "/usr/local/lib/python3.6/dist-packages/seaborn/categorical.py:3714: UserWarning: The `factorplot` function has been renamed to `catplot`. The original name will be removed in a future release. Please update your code. Note that the default `kind` in `factorplot` (`'point'`) has changed `'strip'` in `catplot`.\n",
            "  warnings.warn(msg)\n"
          ],
          "name": "stderr"
        },
        {
          "output_type": "display_data",
          "data": {
            "image/png": "[encoded data removed]",
            "text/plain": [
              "<Figure size 360x360 with 1 Axes>"
            ]
          },
          "metadata": {
            "tags": []
          }
        }
      ]
    },
    {
      "cell_type": "markdown",
      "metadata": {
        "id": "k5p4Bys3tmQW"
      },
      "source": [
        "- 혼자일 경우가 확실히 생존률이 낮다"
      ]
    },
    {
      "cell_type": "markdown",
      "metadata": {
        "id": "diVrJa7Av5GJ"
      },
      "source": [
        "#### 결측치 처리"
      ]
    },
    {
      "cell_type": "code",
      "metadata": {
        "colab": {
          "base_uri": "https://localhost:8080/"
        },
        "id": "bO3mK1lUvTCh",
        "outputId": "e3c071d2-dd39-480a-a4cf-70e99d38c147"
      },
      "source": [
        "train = pd.get_dummies(train, columns=['Sex', 'Embarked', 'Pclass', 'Title'])\r\n",
        "train.info()"
      ],
      "execution_count": 35,
      "outputs": [
        {
          "output_type": "stream",
          "text": [
            "<class 'pandas.core.frame.DataFrame'>\n",
            "RangeIndex: 891 entries, 0 to 890\n",
            "Data columns (total 21 columns):\n",
            " #   Column        Non-Null Count  Dtype  \n",
            "---  ------        --------------  -----  \n",
            " 0   Survived      891 non-null    int64  \n",
            " 1   Age           714 non-null    float64\n",
            " 2   SibSp         891 non-null    int64  \n",
            " 3   Parch         891 non-null    int64  \n",
            " 4   Fare          891 non-null    float64\n",
            " 5   family_size   891 non-null    int64  \n",
            " 6   Alone         891 non-null    int64  \n",
            " 7   Bigfamily     891 non-null    int64  \n",
            " 8   Sex_female    891 non-null    uint8  \n",
            " 9   Sex_male      891 non-null    uint8  \n",
            " 10  Embarked_C    891 non-null    uint8  \n",
            " 11  Embarked_Q    891 non-null    uint8  \n",
            " 12  Embarked_S    891 non-null    uint8  \n",
            " 13  Pclass_1      891 non-null    uint8  \n",
            " 14  Pclass_2      891 non-null    uint8  \n",
            " 15  Pclass_3      891 non-null    uint8  \n",
            " 16  Title_Master  891 non-null    uint8  \n",
            " 17  Title_Miss    891 non-null    uint8  \n",
            " 18  Title_Mr      891 non-null    uint8  \n",
            " 19  Title_Mrs     891 non-null    uint8  \n",
            " 20  Title_Other   891 non-null    uint8  \n",
            "dtypes: float64(2), int64(6), uint8(13)\n",
            "memory usage: 67.1 KB\n"
          ],
          "name": "stdout"
        }
      ]
    },
    {
      "cell_type": "code",
      "metadata": {
        "colab": {
          "base_uri": "https://localhost:8080/"
        },
        "id": "6mJwvvs4moJe",
        "outputId": "7567017c-c82b-43ed-f490-23c76d5441b2"
      },
      "source": [
        "from sklearn.impute import SimpleImputer\r\n",
        "\r\n",
        "imputer = SimpleImputer(strategy=\"median\")\r\n",
        "X = imputer.fit_transform(train)\r\n",
        "imputer.statistics_"
      ],
      "execution_count": 36,
      "outputs": [
        {
          "output_type": "execute_result",
          "data": {
            "text/plain": [
              "array([ 0.    , 28.    ,  0.    ,  0.    , 14.4542,  0.    ,  1.    ,\n",
              "        0.    ,  0.    ,  1.    ,  0.    ,  0.    ,  1.    ,  0.    ,\n",
              "        0.    ,  1.    ,  0.    ,  0.    ,  1.    ,  0.    ,  0.    ])"
            ]
          },
          "metadata": {
            "tags": []
          },
          "execution_count": 36
        }
      ]
    },
    {
      "cell_type": "code",
      "metadata": {
        "colab": {
          "base_uri": "https://localhost:8080/"
        },
        "id": "bshWDMXgsynS",
        "outputId": "d8c923e2-75ff-4829-d718-bd4e9e63f3d3"
      },
      "source": [
        "train = pd.DataFrame(X, columns=train.columns, index=train.index)\r\n",
        "train.info()"
      ],
      "execution_count": 37,
      "outputs": [
        {
          "output_type": "stream",
          "text": [
            "<class 'pandas.core.frame.DataFrame'>\n",
            "RangeIndex: 891 entries, 0 to 890\n",
            "Data columns (total 21 columns):\n",
            " #   Column        Non-Null Count  Dtype  \n",
            "---  ------        --------------  -----  \n",
            " 0   Survived      891 non-null    float64\n",
            " 1   Age           891 non-null    float64\n",
            " 2   SibSp         891 non-null    float64\n",
            " 3   Parch         891 non-null    float64\n",
            " 4   Fare          891 non-null    float64\n",
            " 5   family_size   891 non-null    float64\n",
            " 6   Alone         891 non-null    float64\n",
            " 7   Bigfamily     891 non-null    float64\n",
            " 8   Sex_female    891 non-null    float64\n",
            " 9   Sex_male      891 non-null    float64\n",
            " 10  Embarked_C    891 non-null    float64\n",
            " 11  Embarked_Q    891 non-null    float64\n",
            " 12  Embarked_S    891 non-null    float64\n",
            " 13  Pclass_1      891 non-null    float64\n",
            " 14  Pclass_2      891 non-null    float64\n",
            " 15  Pclass_3      891 non-null    float64\n",
            " 16  Title_Master  891 non-null    float64\n",
            " 17  Title_Miss    891 non-null    float64\n",
            " 18  Title_Mr      891 non-null    float64\n",
            " 19  Title_Mrs     891 non-null    float64\n",
            " 20  Title_Other   891 non-null    float64\n",
            "dtypes: float64(21)\n",
            "memory usage: 146.3 KB\n"
          ],
          "name": "stdout"
        }
      ]
    },
    {
      "cell_type": "markdown",
      "metadata": {
        "id": "2-ChQHsPzm20"
      },
      "source": [
        "### 특성 공학 3) 나이대 범주화"
      ]
    },
    {
      "cell_type": "code",
      "metadata": {
        "colab": {
          "base_uri": "https://localhost:8080/",
          "height": 261
        },
        "id": "gcivGQ9Esyr0",
        "outputId": "92c22345-ae2d-470b-d0a4-86302e6bf147"
      },
      "source": [
        "#### 나이대 범주화\r\n",
        "train[\"AgeBucket\"] = train[\"Age\"] // 15 * 15\r\n",
        "train[[\"AgeBucket\", \"Survived\"]].groupby([\"AgeBucket\"]).mean()"
      ],
      "execution_count": 38,
      "outputs": [
        {
          "output_type": "execute_result",
          "data": {
            "text/html": [
              "<div>\n",
              "<style scoped>\n",
              "    .dataframe tbody tr th:only-of-type {\n",
              "        vertical-align: middle;\n",
              "    }\n",
              "\n",
              "    .dataframe tbody tr th {\n",
              "        vertical-align: top;\n",
              "    }\n",
              "\n",
              "    .dataframe thead th {\n",
              "        text-align: right;\n",
              "    }\n",
              "</style>\n",
              "<table border=\"1\" class=\"dataframe\">\n",
              "  <thead>\n",
              "    <tr style=\"text-align: right;\">\n",
              "      <th></th>\n",
              "      <th>Survived</th>\n",
              "    </tr>\n",
              "    <tr>\n",
              "      <th>AgeBucket</th>\n",
              "      <th></th>\n",
              "    </tr>\n",
              "  </thead>\n",
              "  <tbody>\n",
              "    <tr>\n",
              "      <th>0.0</th>\n",
              "      <td>0.576923</td>\n",
              "    </tr>\n",
              "    <tr>\n",
              "      <th>15.0</th>\n",
              "      <td>0.337474</td>\n",
              "    </tr>\n",
              "    <tr>\n",
              "      <th>30.0</th>\n",
              "      <td>0.423256</td>\n",
              "    </tr>\n",
              "    <tr>\n",
              "      <th>45.0</th>\n",
              "      <td>0.404494</td>\n",
              "    </tr>\n",
              "    <tr>\n",
              "      <th>60.0</th>\n",
              "      <td>0.240000</td>\n",
              "    </tr>\n",
              "    <tr>\n",
              "      <th>75.0</th>\n",
              "      <td>1.000000</td>\n",
              "    </tr>\n",
              "  </tbody>\n",
              "</table>\n",
              "</div>"
            ],
            "text/plain": [
              "           Survived\n",
              "AgeBucket          \n",
              "0.0        0.576923\n",
              "15.0       0.337474\n",
              "30.0       0.423256\n",
              "45.0       0.404494\n",
              "60.0       0.240000\n",
              "75.0       1.000000"
            ]
          },
          "metadata": {
            "tags": []
          },
          "execution_count": 38
        }
      ]
    },
    {
      "cell_type": "code",
      "metadata": {
        "colab": {
          "base_uri": "https://localhost:8080/",
          "height": 438
        },
        "id": "r3i6hVfhwMs7",
        "outputId": "c607c6e4-901f-4185-fa9c-452551df3278"
      },
      "source": [
        "sns.factorplot(x='AgeBucket', y='Survived', data=train)\r\n",
        "plt.show()"
      ],
      "execution_count": 39,
      "outputs": [
        {
          "output_type": "stream",
          "text": [
            "/usr/local/lib/python3.6/dist-packages/seaborn/categorical.py:3714: UserWarning: The `factorplot` function has been renamed to `catplot`. The original name will be removed in a future release. Please update your code. Note that the default `kind` in `factorplot` (`'point'`) has changed `'strip'` in `catplot`.\n",
            "  warnings.warn(msg)\n"
          ],
          "name": "stderr"
        },
        {
          "output_type": "display_data",
          "data": {
            "image/png": "[encoded data removed]",
            "text/plain": [
              "<Figure size 360x360 with 1 Axes>"
            ]
          },
          "metadata": {
            "tags": []
          }
        }
      ]
    },
    {
      "cell_type": "code",
      "metadata": {
        "colab": {
          "base_uri": "https://localhost:8080/"
        },
        "id": "qTNV7aA70QJh",
        "outputId": "bd24830c-f630-40b2-a241-e00f8f1630fc"
      },
      "source": [
        "train.corr()['Survived']"
      ],
      "execution_count": 40,
      "outputs": [
        {
          "output_type": "execute_result",
          "data": {
            "text/plain": [
              "Survived        1.000000\n",
              "Age            -0.064910\n",
              "SibSp          -0.035322\n",
              "Parch           0.081629\n",
              "Fare            0.257307\n",
              "family_size     0.016639\n",
              "Alone          -0.203367\n",
              "Bigfamily      -0.125147\n",
              "Sex_female      0.543351\n",
              "Sex_male       -0.543351\n",
              "Embarked_C      0.168240\n",
              "Embarked_Q      0.003650\n",
              "Embarked_S     -0.155660\n",
              "Pclass_1        0.285904\n",
              "Pclass_2        0.093349\n",
              "Pclass_3       -0.322308\n",
              "Title_Master    0.085221\n",
              "Title_Miss      0.335636\n",
              "Title_Mr       -0.549199\n",
              "Title_Mrs       0.341994\n",
              "Title_Other    -0.012054\n",
              "AgeBucket      -0.028922\n",
              "Name: Survived, dtype: float64"
            ]
          },
          "metadata": {
            "tags": []
          },
          "execution_count": 40
        }
      ]
    },
    {
      "cell_type": "code",
      "metadata": {
        "id": "Dw7pbtLjzHQ8"
      },
      "source": [
        "train = train.drop(['SibSp', 'Parch', 'family_size', 'Age'], axis=1)"
      ],
      "execution_count": 41,
      "outputs": []
    },
    {
      "cell_type": "code",
      "metadata": {
        "colab": {
          "base_uri": "https://localhost:8080/",
          "height": 220
        },
        "id": "p-w-jKZN3t4a",
        "outputId": "7e679638-de63-42c6-f5b7-6d8ceeab95dc"
      },
      "source": [
        "train.head()"
      ],
      "execution_count": 42,
      "outputs": [
        {
          "output_type": "execute_result",
          "data": {
            "text/html": [
              "<div>\n",
              "<style scoped>\n",
              "    .dataframe tbody tr th:only-of-type {\n",
              "        vertical-align: middle;\n",
              "    }\n",
              "\n",
              "    .dataframe tbody tr th {\n",
              "        vertical-align: top;\n",
              "    }\n",
              "\n",
              "    .dataframe thead th {\n",
              "        text-align: right;\n",
              "    }\n",
              "</style>\n",
              "<table border=\"1\" class=\"dataframe\">\n",
              "  <thead>\n",
              "    <tr style=\"text-align: right;\">\n",
              "      <th></th>\n",
              "      <th>Survived</th>\n",
              "      <th>Fare</th>\n",
              "      <th>Alone</th>\n",
              "      <th>Bigfamily</th>\n",
              "      <th>Sex_female</th>\n",
              "      <th>Sex_male</th>\n",
              "      <th>Embarked_C</th>\n",
              "      <th>Embarked_Q</th>\n",
              "      <th>Embarked_S</th>\n",
              "      <th>Pclass_1</th>\n",
              "      <th>Pclass_2</th>\n",
              "      <th>Pclass_3</th>\n",
              "      <th>Title_Master</th>\n",
              "      <th>Title_Miss</th>\n",
              "      <th>Title_Mr</th>\n",
              "      <th>Title_Mrs</th>\n",
              "      <th>Title_Other</th>\n",
              "      <th>AgeBucket</th>\n",
              "    </tr>\n",
              "  </thead>\n",
              "  <tbody>\n",
              "    <tr>\n",
              "      <th>0</th>\n",
              "      <td>0.0</td>\n",
              "      <td>7.2500</td>\n",
              "      <td>0.0</td>\n",
              "      <td>0.0</td>\n",
              "      <td>0.0</td>\n",
              "      <td>1.0</td>\n",
              "      <td>0.0</td>\n",
              "      <td>0.0</td>\n",
              "      <td>1.0</td>\n",
              "      <td>0.0</td>\n",
              "      <td>0.0</td>\n",
              "      <td>1.0</td>\n",
              "      <td>0.0</td>\n",
              "      <td>0.0</td>\n",
              "      <td>1.0</td>\n",
              "      <td>0.0</td>\n",
              "      <td>0.0</td>\n",
              "      <td>15.0</td>\n",
              "    </tr>\n",
              "    <tr>\n",
              "      <th>1</th>\n",
              "      <td>1.0</td>\n",
              "      <td>71.2833</td>\n",
              "      <td>0.0</td>\n",
              "      <td>0.0</td>\n",
              "      <td>1.0</td>\n",
              "      <td>0.0</td>\n",
              "      <td>1.0</td>\n",
              "      <td>0.0</td>\n",
              "      <td>0.0</td>\n",
              "      <td>1.0</td>\n",
              "      <td>0.0</td>\n",
              "      <td>0.0</td>\n",
              "      <td>0.0</td>\n",
              "      <td>0.0</td>\n",
              "      <td>0.0</td>\n",
              "      <td>1.0</td>\n",
              "      <td>0.0</td>\n",
              "      <td>30.0</td>\n",
              "    </tr>\n",
              "    <tr>\n",
              "      <th>2</th>\n",
              "      <td>1.0</td>\n",
              "      <td>7.9250</td>\n",
              "      <td>1.0</td>\n",
              "      <td>0.0</td>\n",
              "      <td>1.0</td>\n",
              "      <td>0.0</td>\n",
              "      <td>0.0</td>\n",
              "      <td>0.0</td>\n",
              "      <td>1.0</td>\n",
              "      <td>0.0</td>\n",
              "      <td>0.0</td>\n",
              "      <td>1.0</td>\n",
              "      <td>0.0</td>\n",
              "      <td>1.0</td>\n",
              "      <td>0.0</td>\n",
              "      <td>0.0</td>\n",
              "      <td>0.0</td>\n",
              "      <td>15.0</td>\n",
              "    </tr>\n",
              "    <tr>\n",
              "      <th>3</th>\n",
              "      <td>1.0</td>\n",
              "      <td>53.1000</td>\n",
              "      <td>0.0</td>\n",
              "      <td>0.0</td>\n",
              "      <td>1.0</td>\n",
              "      <td>0.0</td>\n",
              "      <td>0.0</td>\n",
              "      <td>0.0</td>\n",
              "      <td>1.0</td>\n",
              "      <td>1.0</td>\n",
              "      <td>0.0</td>\n",
              "      <td>0.0</td>\n",
              "      <td>0.0</td>\n",
              "      <td>0.0</td>\n",
              "      <td>0.0</td>\n",
              "      <td>1.0</td>\n",
              "      <td>0.0</td>\n",
              "      <td>30.0</td>\n",
              "    </tr>\n",
              "    <tr>\n",
              "      <th>4</th>\n",
              "      <td>0.0</td>\n",
              "      <td>8.0500</td>\n",
              "      <td>1.0</td>\n",
              "      <td>0.0</td>\n",
              "      <td>0.0</td>\n",
              "      <td>1.0</td>\n",
              "      <td>0.0</td>\n",
              "      <td>0.0</td>\n",
              "      <td>1.0</td>\n",
              "      <td>0.0</td>\n",
              "      <td>0.0</td>\n",
              "      <td>1.0</td>\n",
              "      <td>0.0</td>\n",
              "      <td>0.0</td>\n",
              "      <td>1.0</td>\n",
              "      <td>0.0</td>\n",
              "      <td>0.0</td>\n",
              "      <td>30.0</td>\n",
              "    </tr>\n",
              "  </tbody>\n",
              "</table>\n",
              "</div>"
            ],
            "text/plain": [
              "   Survived     Fare  Alone  ...  Title_Mrs  Title_Other  AgeBucket\n",
              "0       0.0   7.2500    0.0  ...        0.0          0.0       15.0\n",
              "1       1.0  71.2833    0.0  ...        1.0          0.0       30.0\n",
              "2       1.0   7.9250    1.0  ...        0.0          0.0       15.0\n",
              "3       1.0  53.1000    0.0  ...        1.0          0.0       30.0\n",
              "4       0.0   8.0500    1.0  ...        0.0          0.0       30.0\n",
              "\n",
              "[5 rows x 18 columns]"
            ]
          },
          "metadata": {
            "tags": []
          },
          "execution_count": 42
        }
      ]
    },
    {
      "cell_type": "code",
      "metadata": {
        "colab": {
          "base_uri": "https://localhost:8080/"
        },
        "id": "t673ZtVG4vTO",
        "outputId": "91cb9418-3624-4d14-a82a-e253a68c2aa1"
      },
      "source": [
        "train.isnull().sum()"
      ],
      "execution_count": 43,
      "outputs": [
        {
          "output_type": "execute_result",
          "data": {
            "text/plain": [
              "Survived        0\n",
              "Fare            0\n",
              "Alone           0\n",
              "Bigfamily       0\n",
              "Sex_female      0\n",
              "Sex_male        0\n",
              "Embarked_C      0\n",
              "Embarked_Q      0\n",
              "Embarked_S      0\n",
              "Pclass_1        0\n",
              "Pclass_2        0\n",
              "Pclass_3        0\n",
              "Title_Master    0\n",
              "Title_Miss      0\n",
              "Title_Mr        0\n",
              "Title_Mrs       0\n",
              "Title_Other     0\n",
              "AgeBucket       0\n",
              "dtype: int64"
            ]
          },
          "metadata": {
            "tags": []
          },
          "execution_count": 43
        }
      ]
    },
    {
      "cell_type": "code",
      "metadata": {
        "id": "jORdfloI8GO3"
      },
      "source": [
        "y_train = train['Survived']\r\n",
        "x_train = train.drop(['Survived'], axis=1)"
      ],
      "execution_count": 44,
      "outputs": []
    },
    {
      "cell_type": "code",
      "metadata": {
        "colab": {
          "base_uri": "https://localhost:8080/"
        },
        "id": "UDCoxX_V4xVS",
        "outputId": "60e0d209-907b-4e6e-9b4a-5f6f0637f2d2"
      },
      "source": [
        "from sklearn.preprocessing import RobustScaler\r\n",
        "\r\n",
        "scaler = RobustScaler()\r\n",
        "x_train = scaler.fit_transform(x_train)\r\n",
        "x_train.std()"
      ],
      "execution_count": 45,
      "outputs": [
        {
          "output_type": "execute_result",
          "data": {
            "text/plain": [
              "0.7527297748409747"
            ]
          },
          "metadata": {
            "tags": []
          },
          "execution_count": 45
        }
      ]
    },
    {
      "cell_type": "markdown",
      "metadata": {
        "id": "extjNC0L5Gxh"
      },
      "source": [
        "### 모델별 성능평가\r\n",
        "- SVM Classifier\r\n",
        "- Random Forest Classifier"
      ]
    },
    {
      "cell_type": "code",
      "metadata": {
        "id": "nlbefzSHyr8j"
      },
      "source": [
        "def plot_roc_curve(fpr, tpr, label=None):\r\n",
        "    plt.plot(fpr, tpr, linewidth=2, label=label)\r\n",
        "    plt.plot([0,1], [0,1], 'k--')\r\n",
        "    plt.grid(True)\r\n",
        "    plt.xlim([0,1])\r\n",
        "    plt.ylim([0,1])\r\n",
        "    plt.xlabel(\"False Positive Rate\")\r\n",
        "    plt.ylabel(\"True Positive Rate\")"
      ],
      "execution_count": 46,
      "outputs": []
    },
    {
      "cell_type": "code",
      "metadata": {
        "id": "dEG5yXAC8pCN"
      },
      "source": [
        "from sklearn.ensemble import RandomForestClassifier\r\n",
        "from sklearn.model_selection import cross_val_score, cross_val_predict\r\n",
        "\r\n",
        "forest_clf = RandomForestClassifier(n_estimators=100, random_state=42)\r\n",
        "forest_scores = cross_val_predict(forest_clf, x_train, y_train, cv=10, method=\"predict_proba\")"
      ],
      "execution_count": 47,
      "outputs": []
    },
    {
      "cell_type": "code",
      "metadata": {
        "id": "syb0d9dk-_8w"
      },
      "source": [
        "from sklearn.svm import SVC\r\n",
        "svm_clf = SVC(gamma=\"auto\")\r\n",
        "svm_scores = cross_val_predict(svm_clf, x_train, y_train, cv=10, method=\"decision_function\")"
      ],
      "execution_count": 48,
      "outputs": []
    },
    {
      "cell_type": "code",
      "metadata": {
        "colab": {
          "base_uri": "https://localhost:8080/",
          "height": 268
        },
        "id": "2k_AKQPL2LZy",
        "outputId": "7c2fdb88-fd73-40ab-c0d2-341fa66923f0"
      },
      "source": [
        "from sklearn.metrics import roc_curve, roc_auc_score\r\n",
        "\r\n",
        "fpr_forest, tpr_forest, thresholds, = roc_curve(y_train, forest_scores[:,1])\r\n",
        "fpr_svm, tpr_svm, thresholds, = roc_curve(y_train, svm_scores)\r\n",
        "\r\n",
        "plt.plot(fpr_svm, tpr_svm, \"b:\", label=\"SVM\")\r\n",
        "plt.plot(fpr_forest, tpr_forest, \"r:\", label=\"Random Forest\")\r\n",
        "\r\n",
        "plt.legend()\r\n",
        "plt.show()"
      ],
      "execution_count": 49,
      "outputs": [
        {
          "output_type": "display_data",
          "data": {
            "image/png": "[encoded data removed]",
            "text/plain": [
              "<Figure size 432x288 with 1 Axes>"
            ]
          },
          "metadata": {
            "tags": []
          }
        }
      ]
    },
    {
      "cell_type": "code",
      "metadata": {
        "colab": {
          "base_uri": "https://localhost:8080/"
        },
        "id": "2cX_FN9_HwfT",
        "outputId": "d561fa83-dcb2-43b6-c82b-7ff0ee0fa06e"
      },
      "source": [
        "roc_auc_score(y_train, forest_scores[:,1]), roc_auc_score(y_train, svm_scores)"
      ],
      "execution_count": 50,
      "outputs": [
        {
          "output_type": "execute_result",
          "data": {
            "text/plain": [
              "(0.8553989710158822, 0.8432397021698144)"
            ]
          },
          "metadata": {
            "tags": []
          },
          "execution_count": 50
        }
      ]
    },
    {
      "cell_type": "code",
      "metadata": {
        "colab": {
          "base_uri": "https://localhost:8080/"
        },
        "id": "_mb8N1M-3Zfl",
        "outputId": "5dbc1198-15eb-4b22-b38e-76037edd3ccb"
      },
      "source": [
        "from sklearn.metrics import f1_score\r\n",
        "\r\n",
        "svm_pred = cross_val_predict(svm_clf, x_train, y_train, cv=10)\r\n",
        "forest_pred = cross_val_predict(forest_clf, x_train, y_train, cv=10)\r\n",
        "\r\n",
        "f1_score(y_train, svm_pred), f1_score(y_train, forest_pred)"
      ],
      "execution_count": 51,
      "outputs": [
        {
          "output_type": "execute_result",
          "data": {
            "text/plain": [
              "(0.7730061349693251, 0.7503692762186115)"
            ]
          },
          "metadata": {
            "tags": []
          },
          "execution_count": 51
        }
      ]
    },
    {
      "cell_type": "markdown",
      "metadata": {
        "id": "mMSzDqOX7cjj"
      },
      "source": [
        "**Random Forest 채택**"
      ]
    },
    {
      "cell_type": "markdown",
      "metadata": {
        "id": "9J0AJwAK7i3J"
      },
      "source": [
        "### 파이프라인 구축\r\n",
        "- dropper\r\n",
        "- onehotencoder\r\n",
        "- feature engineering\r\n",
        "\r\n"
      ]
    },
    {
      "cell_type": "code",
      "metadata": {
        "id": "4we8VhpVFwFc"
      },
      "source": [
        "from sklearn.base import BaseEstimator, TransformerMixin\r\n",
        "\r\n",
        "class Dropper(BaseEstimator, TransformerMixin):\r\n",
        "  def __init__(self, attribute_names):\r\n",
        "    self.attribute_names = attribute_names\r\n",
        "  def fit(self, X, y=None):\r\n",
        "    return self\r\n",
        "  def transform(self, X):\r\n",
        "    return X.drop(self.attribute_names, axis=1)"
      ],
      "execution_count": 52,
      "outputs": []
    },
    {
      "cell_type": "code",
      "metadata": {
        "id": "7YkUrbBrxxb1"
      },
      "source": [
        "from sklearn.preprocessing import OneHotEncoder\r\n",
        "\r\n",
        "class CombineAttributeAdder(BaseEstimator, TransformerMixin):\r\n",
        "  def __init__(self):\r\n",
        "    pass\r\n",
        "  def fit(self, X, y=None):\r\n",
        "    return self\r\n",
        "  def transform(self, X):\r\n",
        "    X['family_size'] = X['SibSp'] + X['Parch']\r\n",
        "    X['Alone'] = 0\r\n",
        "    X.loc[X['family_size']==0, 'Alone'] = 1\r\n",
        "    X['Bigfamily'] = 0\r\n",
        "    X.loc[X['family_size']>3, 'Bigfamily'] = 1\r\n",
        "\r\n",
        "    X[\"AgeBucket\"] = X[\"Age\"] // 15 * 15\r\n",
        "    X['Title'] = X['Name'].str.extract('([A-Za-z]+)\\.', expand=False)\r\n",
        "    X['Title'] = X['Title'].replace(['Lady', 'Countess','Capt', 'Col','Don', 'Dr', 'Major', 'Rev', 'Sir', 'Jonkheer', 'Dona'], 'Other')\r\n",
        "    X['Title'] = X['Title'].replace('Mlle', 'Miss').replace('Ms', 'Miss').replace('Mme', 'Mrs')\r\n",
        "    return X"
      ],
      "execution_count": 53,
      "outputs": []
    },
    {
      "cell_type": "code",
      "metadata": {
        "id": "HC5Pwmxz0pR_"
      },
      "source": [
        "class encode(BaseEstimator, TransformerMixin):\r\n",
        "  def __init__(self, attribute_names):\r\n",
        "    self.attribute_names = attribute_names\r\n",
        "  def fit(self, X, y=None):\r\n",
        "    return self\r\n",
        "  def transform(self, X):\r\n",
        "    return pd.get_dummies(X, columns=self.attribute_names)"
      ],
      "execution_count": 54,
      "outputs": []
    },
    {
      "cell_type": "code",
      "metadata": {
        "id": "BbZqa1ZWxHNf"
      },
      "source": [
        "from sklearn.pipeline import Pipeline\r\n",
        "\r\n",
        "full_pipeline = Pipeline([\r\n",
        "  ('dropper_1', Dropper(['Cabin', 'Ticket', 'PassengerId'])),\r\n",
        "  ('attribs_adder', CombineAttributeAdder()),\r\n",
        "  ('dropper_2', Dropper(['SibSp', 'Parch', 'family_size', 'Age', 'Name'])),\r\n",
        "  (\"encode\", encode(['Sex', 'Embarked', 'Pclass', 'Title'])),\r\n",
        "  (\"imputer\", SimpleImputer(strategy=\"median\")),\r\n",
        "  (\"scaler\", RobustScaler())\r\n",
        "])"
      ],
      "execution_count": 55,
      "outputs": []
    },
    {
      "cell_type": "markdown",
      "metadata": {
        "id": "0YIOaebVtG6B"
      },
      "source": [
        "## 학습"
      ]
    },
    {
      "cell_type": "code",
      "metadata": {
        "colab": {
          "base_uri": "https://localhost:8080/"
        },
        "id": "CRJefWDBBGlX",
        "outputId": "eb55a9e1-92ca-4f58-9893-1abda194dbe7"
      },
      "source": [
        "test = full_pipeline.fit_transform(test_data)\r\n",
        "test.shape"
      ],
      "execution_count": 56,
      "outputs": [
        {
          "output_type": "execute_result",
          "data": {
            "text/plain": [
              "(418, 17)"
            ]
          },
          "metadata": {
            "tags": []
          },
          "execution_count": 56
        }
      ]
    },
    {
      "cell_type": "code",
      "metadata": {
        "colab": {
          "base_uri": "https://localhost:8080/"
        },
        "id": "fWXcRaRMBKHF",
        "outputId": "43249952-c0dd-413e-b6c5-f942036b435b"
      },
      "source": [
        "from sklearn.model_selection import RandomizedSearchCV\r\n",
        "\r\n",
        "params = { \r\n",
        "    'n_estimators': list(range(10,100,10)),\r\n",
        "    'max_features': ['auto', 'sqrt', 'log2'],\r\n",
        "    'max_depth' : [4,5,6,7,8],\r\n",
        "    'criterion' :['gini', 'entropy']\r\n",
        "}\r\n",
        "\r\n",
        "rfc = RandomForestClassifier(random_state=42)\r\n",
        "rand_search = RandomizedSearchCV(estimator=rfc, param_distributions=params, cv=5)\r\n",
        "rand_search.fit(x_train, y_train)"
      ],
      "execution_count": 57,
      "outputs": [
        {
          "output_type": "execute_result",
          "data": {
            "text/plain": [
              "RandomizedSearchCV(cv=5, error_score=nan,\n",
              "                   estimator=RandomForestClassifier(bootstrap=True,\n",
              "                                                    ccp_alpha=0.0,\n",
              "                                                    class_weight=None,\n",
              "                                                    criterion='gini',\n",
              "                                                    max_depth=None,\n",
              "                                                    max_features='auto',\n",
              "                                                    max_leaf_nodes=None,\n",
              "                                                    max_samples=None,\n",
              "                                                    min_impurity_decrease=0.0,\n",
              "                                                    min_impurity_split=None,\n",
              "                                                    min_samples_leaf=1,\n",
              "                                                    min_samples_split=2,\n",
              "                                                    min_weight_fraction_leaf=0.0,\n",
              "                                                    n_estimators=100,\n",
              "                                                    n_jobs...\n",
              "                                                    oob_score=False,\n",
              "                                                    random_state=42, verbose=0,\n",
              "                                                    warm_start=False),\n",
              "                   iid='deprecated', n_iter=10, n_jobs=None,\n",
              "                   param_distributions={'criterion': ['gini', 'entropy'],\n",
              "                                        'max_depth': [4, 5, 6, 7, 8],\n",
              "                                        'max_features': ['auto', 'sqrt',\n",
              "                                                         'log2'],\n",
              "                                        'n_estimators': [10, 20, 30, 40, 50, 60,\n",
              "                                                         70, 80, 90]},\n",
              "                   pre_dispatch='2*n_jobs', random_state=None, refit=True,\n",
              "                   return_train_score=False, scoring=None, verbose=0)"
            ]
          },
          "metadata": {
            "tags": []
          },
          "execution_count": 57
        }
      ]
    },
    {
      "cell_type": "code",
      "metadata": {
        "colab": {
          "base_uri": "https://localhost:8080/"
        },
        "id": "fJTHxdhhoh1Y",
        "outputId": "cfe3bc47-0f4d-44bf-bf57-9ffb220d6684"
      },
      "source": [
        "rand_search.best_score_"
      ],
      "execution_count": 58,
      "outputs": [
        {
          "output_type": "execute_result",
          "data": {
            "text/plain": [
              "0.8271608813006088"
            ]
          },
          "metadata": {
            "tags": []
          },
          "execution_count": 58
        }
      ]
    },
    {
      "cell_type": "code",
      "metadata": {
        "id": "3m6i73GGNKSA"
      },
      "source": [
        "y_train = train_data['Survived']\r\n",
        "x_train = train_data.drop(['Survived'], axis=1)\r\n",
        "x_train = full_pipeline.fit_transform(x_train)"
      ],
      "execution_count": 59,
      "outputs": []
    },
    {
      "cell_type": "code",
      "metadata": {
        "colab": {
          "base_uri": "https://localhost:8080/"
        },
        "id": "EVF-dzM2t2mu",
        "outputId": "467a3345-f4d4-4d6f-955b-5aa2d302c36c"
      },
      "source": [
        "model = rand_search.best_estimator_\r\n",
        "model.fit(x_train, y_train)"
      ],
      "execution_count": 60,
      "outputs": [
        {
          "output_type": "execute_result",
          "data": {
            "text/plain": [
              "RandomForestClassifier(bootstrap=True, ccp_alpha=0.0, class_weight=None,\n",
              "                       criterion='entropy', max_depth=6, max_features='sqrt',\n",
              "                       max_leaf_nodes=None, max_samples=None,\n",
              "                       min_impurity_decrease=0.0, min_impurity_split=None,\n",
              "                       min_samples_leaf=1, min_samples_split=2,\n",
              "                       min_weight_fraction_leaf=0.0, n_estimators=40,\n",
              "                       n_jobs=None, oob_score=False, random_state=42, verbose=0,\n",
              "                       warm_start=False)"
            ]
          },
          "metadata": {
            "tags": []
          },
          "execution_count": 60
        }
      ]
    },
    {
      "cell_type": "code",
      "metadata": {
        "id": "2X46DDg1L730",
        "colab": {
          "base_uri": "https://localhost:8080/"
        },
        "outputId": "e895db9b-367e-4128-ab95-6d2c189593b2"
      },
      "source": [
        "model.score(x_train, y_train)"
      ],
      "execution_count": 61,
      "outputs": [
        {
          "output_type": "execute_result",
          "data": {
            "text/plain": [
              "0.8608305274971941"
            ]
          },
          "metadata": {
            "tags": []
          },
          "execution_count": 61
        }
      ]
    },
    {
      "cell_type": "code",
      "metadata": {
        "id": "ltIQT524BgTB",
        "colab": {
          "base_uri": "https://localhost:8080/"
        },
        "outputId": "a6751300-edfa-4e5e-c36b-5f8a5cb5fa18"
      },
      "source": [
        "model = rand_search.best_estimator_\r\n",
        "cross_val_score(model, x_train, y_train, cv=5).mean()"
      ],
      "execution_count": 62,
      "outputs": [
        {
          "output_type": "execute_result",
          "data": {
            "text/plain": [
              "0.8226727763480008"
            ]
          },
          "metadata": {
            "tags": []
          },
          "execution_count": 62
        }
      ]
    },
    {
      "cell_type": "code",
      "metadata": {
        "colab": {
          "base_uri": "https://localhost:8080/"
        },
        "id": "ZZq9jADRzJPU",
        "outputId": "a734296c-ca49-4e21-88b6-b21035d0150b"
      },
      "source": [
        "x_train.shape, test.shape"
      ],
      "execution_count": 63,
      "outputs": [
        {
          "output_type": "execute_result",
          "data": {
            "text/plain": [
              "((891, 17), (418, 17))"
            ]
          },
          "metadata": {
            "tags": []
          },
          "execution_count": 63
        }
      ]
    },
    {
      "cell_type": "code",
      "metadata": {
        "id": "k677ZI3Ex2_3"
      },
      "source": [
        "preds = model.predict(test).astype(int)"
      ],
      "execution_count": 64,
      "outputs": []
    },
    {
      "cell_type": "code",
      "metadata": {
        "colab": {
          "base_uri": "https://localhost:8080/"
        },
        "id": "_C0wD5Dt5XlK",
        "outputId": "bb32951b-213b-47f7-8d05-9872a3aee3fc"
      },
      "source": [
        "PassengerId = np.array(test_data['PassengerId']).astype(int)\r\n",
        "solution = pd.DataFrame(preds, PassengerId, columns = ['Survived'])\r\n",
        "solution.value_counts()"
      ],
      "execution_count": 65,
      "outputs": [
        {
          "output_type": "execute_result",
          "data": {
            "text/plain": [
              "Survived\n",
              "0           275\n",
              "1           143\n",
              "dtype: int64"
            ]
          },
          "metadata": {
            "tags": []
          },
          "execution_count": 65
        }
      ]
    },
    {
      "cell_type": "code",
      "metadata": {
        "id": "tlu4rsnX5ru4"
      },
      "source": [
        "solution.to_csv(\"/content/gdrive/My Drive/my_titanic_solution.csv\", index_label=[\"PassengerId\"])"
      ],
      "execution_count": 66,
      "outputs": []
    }
  ]
}